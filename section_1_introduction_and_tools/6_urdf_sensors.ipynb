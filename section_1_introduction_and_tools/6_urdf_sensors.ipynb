{
 "cells": [
  {
   "cell_type": "markdown",
   "id": "4c36b197-ad96-4fd5-ae3f-691a6c782a13",
   "metadata": {},
   "source": [
    "http://wiki.ros.org/urdf/Tutorials/Building%20a%20Visual%20Robot%20Model%20with%20URDF%20from%20Scratch"
   ]
  },
  {
   "cell_type": "markdown",
   "id": "18903c1d-221c-4e19-874e-958c0a8937bc",
   "metadata": {},
   "source": [
    "![](../assets/header_image.png)"
   ]
  },
  {
   "cell_type": "markdown",
   "id": "eebb5fcc-f933-4ad8-86cf-a2ceeccb23bc",
   "metadata": {},
   "source": [
    "# Optional Assignment 6: Introduction to Jupyter-URDF\n",
    "\n",
    "\n",
    "Welcome to an optional assignment! \n",
    "This exercise notebook is optional. That means we only recommend this notebook to students who do *not* have expierenced with\n",
    "- **Jupyter-URDF**\n",
    "- **Robot Operating system(ROS)**\n"
   ]
  },
  {
   "cell_type": "markdown",
   "id": "309d49e3-0c95-4aa7-9371-7859e4538750",
   "metadata": {},
   "source": [
    "In this assignment, you will\n",
    "\n",
    "- **get a brief introduction to Jupyter-URDF(JupyURDF) library**\n",
    "- **learn how the JupyURDF can allow us to use notebook environment to update the .urdf file describing the robot**\n",
    "- **Add the sensors or links to the robots**"
   ]
  },
  {
   "cell_type": "code",
   "execution_count": null,
   "id": "db3afe58-ac24-46d7-82ea-e773eac66f8e",
   "metadata": {},
   "outputs": [],
   "source": []
  }
 ],
 "metadata": {
  "kernelspec": {
   "display_name": "Python 3 (ipykernel)",
   "language": "python",
   "name": "python3"
  },
  "language_info": {
   "codemirror_mode": {
    "name": "ipython",
    "version": 3
   },
   "file_extension": ".py",
   "mimetype": "text/x-python",
   "name": "python",
   "nbconvert_exporter": "python",
   "pygments_lexer": "ipython3",
   "version": "3.9.6"
  }
 },
 "nbformat": 4,
 "nbformat_minor": 5
}
