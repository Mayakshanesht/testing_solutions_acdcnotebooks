{
 "cells": [
  {
   "cell_type": "code",
   "execution_count": 1,
   "id": "2db5bc42-0f5d-4f0e-aff6-74716b30c775",
   "metadata": {},
   "outputs": [],
   "source": [
    "!source /opt/ros/noetic/setup.sh"
   ]
  },
  {
   "cell_type": "code",
   "execution_count": 2,
   "id": "48d9ca50-f074-4b22-8ab3-4a5ad786c6de",
   "metadata": {},
   "outputs": [],
   "source": [
    "import sys\n",
    "sys.path.append('/opt/ros/noetic/lib/python3/dist-packages/')\n",
    "\n",
    "#sys.path.append('/usr/lib/bin/')"
   ]
  },
  {
   "cell_type": "code",
   "execution_count": 5,
   "id": "550731d3-4607-40cb-b8c4-03ed2c6a33ec",
   "metadata": {},
   "outputs": [],
   "source": [
    "import jupyros as jr\n",
    "import rospy"
   ]
  },
  {
   "cell_type": "code",
   "execution_count": 6,
   "id": "cda6eeb1-f562-4e8b-9cfb-a42159da78e1",
   "metadata": {},
   "outputs": [
    {
     "name": "stderr",
     "output_type": "stream",
     "text": [
      "WARNING: cannot load logging configuration file, logging is disabled\n"
     ]
    }
   ],
   "source": [
    "from std_msgs.msg import String\n",
    "from geometry_msgs.msg import Pose\n",
    "\n",
    "rospy.init_node('subpub_node')"
   ]
  },
  {
   "cell_type": "code",
   "execution_count": 7,
   "id": "32b857f3-a380-4051-bbf3-1fb6ff628f55",
   "metadata": {},
   "outputs": [
    {
     "data": {
      "application/vnd.jupyter.widget-view+json": {
       "model_id": "856bd4b720b34d47a52cb1b4ce836c3d",
       "version_major": 2,
       "version_minor": 0
      },
      "text/plain": [
       "VBox(children=(HBox(children=(Button(description='Stop', style=ButtonStyle()),)), Output(layout=Layout(border=…"
      ]
     },
     "metadata": {},
     "output_type": "display_data"
    }
   ],
   "source": [
    "\n",
    "\n",
    "jr.subscribe('/pose_stream', Pose, lambda msg: print(msg))\n",
    "\n"
   ]
  },
  {
   "cell_type": "code",
   "execution_count": 8,
   "id": "1701e399-bed8-45d0-9bab-79e72e8713e6",
   "metadata": {},
   "outputs": [
    {
     "data": {
      "application/vnd.jupyter.widget-view+json": {
       "model_id": "2ab1c395ac60450cbc2d79646135e56c",
       "version_major": 2,
       "version_minor": 0
      },
      "text/plain": [
       "VBox(children=(Label(value='position'), HBox(children=(Label(value='x', layout=Layout(width='100px')), FloatTe…"
      ]
     },
     "metadata": {},
     "output_type": "display_data"
    }
   ],
   "source": [
    "\n",
    "\n",
    "jr.publish('/pose_stream', Pose)\n",
    "\n"
   ]
  },
  {
   "cell_type": "code",
   "execution_count": null,
   "id": "8329e35c-ee20-4937-ac0c-9ae9abba4a8f",
   "metadata": {},
   "outputs": [],
   "source": []
  }
 ],
 "metadata": {
  "kernelspec": {
   "display_name": "Python 3 (ipykernel)",
   "language": "python",
   "name": "python3"
  },
  "language_info": {
   "codemirror_mode": {
    "name": "ipython",
    "version": 3
   },
   "file_extension": ".py",
   "mimetype": "text/x-python",
   "name": "python",
   "nbconvert_exporter": "python",
   "pygments_lexer": "ipython3",
   "version": "3.9.6"
  }
 },
 "nbformat": 4,
 "nbformat_minor": 5
}
