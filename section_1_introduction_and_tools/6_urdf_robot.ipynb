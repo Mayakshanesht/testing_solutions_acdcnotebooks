{
 "cells": [
  {
   "cell_type": "markdown",
   "id": "18903c1d-221c-4e19-874e-958c0a8937bc",
   "metadata": {},
   "source": [
    "![](../assets/header_image.png)"
   ]
  },
  {
   "cell_type": "markdown",
   "id": "eebb5fcc-f933-4ad8-86cf-a2ceeccb23bc",
   "metadata": {},
   "source": [
    "# Optional Assignment 6: Introduction to Jupyter-URDF\n",
    "\n",
    "\n",
    "Welcome to an optional assignment! \n",
    "This exercise notebook is optional. That means we only recommend this notebook to students who do *not* have an expierence with\n",
    "- **Jupyter-URDF**\n",
    "- **Robot Operating system(ROS)**\n"
   ]
  },
  {
   "cell_type": "markdown",
   "id": "309d49e3-0c95-4aa7-9371-7859e4538750",
   "metadata": {},
   "source": [
    "In this assignment, you will\n",
    "\n",
    "- **get a brief introduction to Jupyter-URDF(JupyURDF) library**\n",
    "- **learn how the JupyURDF can allow us to use notebook environment to update the .urdf file describing the robot**\n",
    "- **Add the sensors or links to the robots**"
   ]
  },
  {
   "cell_type": "markdown",
   "id": "29d8420a-244f-4c68-a3ef-5b365825d7fa",
   "metadata": {},
   "source": [
    "# Introduction\n",
    "\n",
    "When we think about running the simulation for any scenario which has a robot in it, we would need,\n",
    "1. The URDF file: The file describing the elements of the robot(.urdf ile), \n",
    "2. The SDF(Scenario Description Format) file: The file describing the scenario(.sdf file),\n",
    "3. The simulation engine (Gazebo): With Gazebo, We can create the virtual world using bot the .sdf/ .urdf files, and load simulated versions of our robots into it. \n",
    "\n",
    "Simulated sensors(Gazobo plugins) can detect the environment, and publish the data to the same ROS topics that real sensors would, allowing easy testing of algorithms. Then, forces can be applied to the simulated actuators on the robot, taking into account things like friction.\n",
    "\n",
    "Gazebo plugins give your URDF models greater functionality and can tie in ROS messages and service calls for sensor output and motor input. \n",
    "Though Gazebo simulation engine works with .sdf file, but still Gazebo can convert the .urdf file to .sdf file very easily. \n",
    "\n",
    "\n",
    "\n",
    "## Jupyterlab-urdf library:\n",
    "\n",
    "Since we want to use and edit the .urdf file inside the jupyter notebook environment, we need to use the Jupyterlab-urdf library. We have already installed this library fior you in the docker image, so that you can focus on learning about the .urdf file and its usage.\n",
    "\n",
    "This libray provides the two features to work with the .urdf file: \n",
    "1. To open the text editor for any URDF file, so that we can edit it\n",
    "2. To visualize the robot model "
   ]
  },
  {
   "cell_type": "markdown",
   "id": "f07ba1b7-f2db-4f03-84db-9c80d902a2ab",
   "metadata": {},
   "source": [
    "# URDF file\n",
    "\n",
    "Lets first try to understand, What is the URDF file?\n",
    "\n",
    "**URDF: Unified Robot Description Format(URDF) is an XML format file which is used in ROS to describe all elements of a robot.** \n",
    "\n",
    "It allows us to create visual robot model from the scratch that you can view in the RViz/Gazebo, in our case you can view this robot model inside the Zethus interface.\n",
    "\n",
    "\n",
    "URDF describes a robot as a tree of links connected by joints. \n",
    "\n",
    "The links represent the physical components of the robot, and the joints represent how one link moves relative to another link, effectively defining the location of the links in space.\n",
    "\n",
    "When we write URDF file, basically it is written in the XML format with a lots of tag defining the links and adding various properties to it. So URDF file might seem so long, but it contains a lot of repetitive elemets tag describing the simple structures. \n",
    "\n",
    "## The link: \n",
    "\n",
    "A part of the robot is moving relative to another part (e.g. each segment of a robotic arm) or A part that is not moving relative to another part, but it is convenient to have its own reference point and transform (a common example would be the location of a sensor such as a camera or lidar)\n",
    "\n",
    "## The joint: \n",
    "\n",
    "To cover these scenarios, when we define a joint (the connection between two links) we need to choose what type of joint it is. There are quite a few types, but the most common are:\n",
    "\n",
    "    1. Revolute - A rotational motion, with minimum/maximum angle limits.\n",
    "    2. Continuous - A rotational motion with no limit (e.g. a wheel).\n",
    "    3. Prismatic - A linear sliding motion, with minimum/maximum position limits.\n",
    "    4. Fixed - The child link is rigidly connected to the parent link.\n"
   ]
  },
  {
   "cell_type": "markdown",
   "id": "e93ad2f6-9401-45c4-9990-dcc930cd1ee1",
   "metadata": {},
   "source": [
    "URDF file is an XML file, that contains the series of the nested loop to describe the robot in the form of the tags.\n",
    "\n",
    "There are many tags, but we should atleast be familiar with the following three,\n",
    "\n",
    "**1. XML version and Robot tag:**\n",
    "\n",
    "In the beginning we will add the XML version and then on the second line, we should add the root tag, in our case, robot tag would act as a root tag and encapsulates all other tags. \n",
    "\n",
    "You can write it as follows with the XML tags,\n"
   ]
  },
  {
   "cell_type": "markdown",
   "id": "c8bcc695-b426-4034-bb82-26e54d2fb2b1",
   "metadata": {},
   "source": [
    "<?xml version=\"1.0\"?>\n",
    "<robot name=\"my_robot\">\n",
    "# ...\n",
    "# all other tags\n",
    "# ...\n",
    "</robot>"
   ]
  },
  {
   "cell_type": "markdown",
   "id": "33a31912-992e-43dc-b5e4-d0b29b67be56",
   "metadata": {},
   "source": [
    "**2. Link tags:**\n",
    "\n",
    "A 'link' tag allow us to add attribute 'name' of a link, as well as some additional characteristics \n",
    "- the visual, collision, and inertial properties. \n",
    "These additional tags are generally optional, however they will be required for certain situations such as simulations (which we’ll cover in a later tutorial).\n",
    "\n",
    "Visual - This is what we see in RViz and Gazebo. We can specify three aspects:\n",
    "        Geometry - box/ cylinder / sphere with size parameters, or a mesh\n",
    "        Origin - an offset for the geometry so it doesn’t need to be centred around the link origin\n",
    "        Material - Basically, the colour. We can specify the name of a declared material, or describe the colour directly.\n",
    "    \n",
    "Collision - This is used for physics collision calculations.\n",
    "\n",
    "We can set the:\n",
    "        Geometry and Origin - Same options as for visual. This will often be copy-pasted from the Visual tag, however we may want a simpler collision geometry (e.g. box instead of a mesh) for computational reasons.\n",
    "    \n",
    "Inertial - This is also used for physics calculations, but determines how the link responds to forces. \n",
    "\n",
    "The inertial properties are:\n",
    "        Mass - Mass of the link\n",
    "        Origin - The centre of mass (a.k.a centre of gravity). \n",
    "        Inertia - The rotational inertia matrix.\n",
    "\n",
    "You can write them as follows with XML tags,"
   ]
  },
  {
   "cell_type": "markdown",
   "id": "d7c8e158-f582-42a4-aa36-ac57cadbdd27",
   "metadata": {},
   "source": [
    "<link name=\"base\">\n",
    "  <visual>\n",
    "     <geometry/>\n",
    "     <origin/>\n",
    "     <material\n",
    "  </visual>\n",
    "  \n",
    "  <collision>\n",
    "     <geometry/>\n",
    "     <origin/>\n",
    "  </collision>\n",
    "  \n",
    "  <inertial>\n",
    "     <mass/>\n",
    "     <origin/>\n",
    "     <inertia/>\n",
    "  </inertial>\n",
    "  \n",
    "</link>"
   ]
  },
  {
   "cell_type": "markdown",
   "id": "f37cfff7-5710-4c4b-b9b4-c55ec5f017e7",
   "metadata": {},
   "source": [
    "3. Joint tags\n",
    "\n",
    "Each joint will need to have the following specified:\n",
    "\n",
    "Name - A name for the joint. \n",
    "Type - The joint type as mentioned earlier (the four most popular being fixed, prismatic, revolute, and continuous).\n",
    "Parent and child links - Which links this joint defines a relationship between\n",
    "Origin - The relationship between the two links\n",
    "\n",
    "For a fixed joint these parameters will be sufficient, but for non-fixed joints we will usually want to specify some other characteristics.\n",
    "\n",
    "There are a few to choose from, but the two most common will be:\n",
    "\n",
    "Axis - Which axis to move along or around\n",
    "Limits - Physical actuation limits, which may be expected by other parts of the system. \n",
    "\n",
    "You can write them as follows with XML tags if we assume we have two links representing the Base and the camera ,\n"
   ]
  },
  {
   "cell_type": "markdown",
   "id": "ad362df3-7eae-442e-9da4-67d714008287",
   "metadata": {},
   "source": [
    "<joint name=\"joint_1\" type=\"fixed\">\n",
    "     <parent link=\"base\"/>\n",
    "     <child link=\"camera\"/>\n",
    "     <origin xyz=\"0 0.22 0.25\"/>\n",
    "</joint>"
   ]
  },
  {
   "cell_type": "markdown",
   "id": "0b53632c-d47a-4633-9737-be9e41b68e8b",
   "metadata": {},
   "source": [
    "# Introducing Xacro\n",
    "Xacro lets us manipulate the URDF files in various ways, but the two main ones we’ll look at are splitting up code into multiple files, and avoiding duplicate code.\n",
    "\n",
    "You can write them as follows with XML tags,"
   ]
  },
  {
   "cell_type": "markdown",
   "id": "2c89b02c-efcd-4aea-b937-b37b80227e43",
   "metadata": {},
   "source": [
    "<robot xmlns:xacro=\"http://www.ros.org/wiki/xacro\">"
   ]
  },
  {
   "cell_type": "markdown",
   "id": "6227dce1-4845-45f7-a854-148688923ba1",
   "metadata": {},
   "source": [
    "As usual, its robot tag will have a name. Inside this file, we can “include” another file. \n",
    "\n",
    "It’s sort of like the tags in the included file are copied-and-pasted into the main file. \n",
    "\n",
    "we can also use the xacro:macro to include the small code inside the main file to avoid the repetition.\n",
    "\n",
    "To include another file we use the xacro:include tag like this:"
   ]
  },
  {
   "cell_type": "markdown",
   "id": "9613b540-1e7f-4ab3-8137-88cf9fa02a78",
   "metadata": {},
   "source": [
    "<xacro:include filename=\"<your subfile>.xacro\"/>"
   ]
  },
  {
   "cell_type": "markdown",
   "id": "d47cd129-c6bd-479b-ad73-f93fb47f9d41",
   "metadata": {},
   "source": [
    "# Build the Simple robot urdf file:\n",
    "here we will consider the robot with a base frame, two standard wheels and one castor wheel, and one lidar sensor link.\n",
    "Try to open the Robot.urdf file in this folder. which would allow you to view the robot model.\n",
    "you can right click on this and open the urdf file in the editor mode, which would allow you to edit the urdf file."
   ]
  },
  {
   "cell_type": "markdown",
   "id": "9a10b8a8-68da-4342-9c7f-f4974a05b385",
   "metadata": {},
   "source": [
    "<?xml version=\"1.0\"?>\n",
    "<robot xmlns:xacro=\"http://www.ros.org/wiki/xacro\"  name=\"robot\">\n",
    "\n",
    "    <link name=\"base_link\">\n",
    "    </link>\n",
    "    <link name=\"chassis\">\n",
    "        <visual>\n",
    "            <origin xyz=\"0.15 0 0.075\" rpy=\"0 0 0\"/>\n",
    "            <geometry>\n",
    "                <box size=\"0.3 0.3 0.15\"/>\n",
    "            </geometry>\n",
    "            <material name=\"white\"/>\n",
    "        </visual>\n",
    "        <collision>\n",
    "            <origin xyz=\"0.15 0 0.075\" rpy=\"0 0 0\"/>\n",
    "            <geometry>\n",
    "                <box size=\"0.3 0.3 0.15\"/>\n",
    "            </geometry> \n",
    "        </collision>\n",
    "    </link>\n",
    "    <joint name=\"chassis_joint\" type=\"fixed\">\n",
    "        <parent link=\"base_link\"/>\n",
    "        <child link=\"chassis\"/>\n",
    "        <origin xyz=\"-0.1 0 0\"/>\n",
    "    </joint>\n",
    "    \n",
    "    <!-- LEFT WHEEL -->\n",
    "\n",
    "    <joint name=\"left_wheel_joint\" type=\"continuous\">\n",
    "        <parent link=\"base_link\"/>\n",
    "        <child link=\"left_wheel\"/>\n",
    "        <origin xyz=\"0 0.175 0\" rpy=\"-1.57079633 0 0\"/>\n",
    "        <axis xyz=\"0 0 1\"/>\n",
    "    </joint>\n",
    "\n",
    "    <link name=\"left_wheel\">\n",
    "        <visual>\n",
    "            <geometry>\n",
    "                <cylinder length=\"0.04\" radius=\"0.05\" />/>\n",
    "            </geometry>\n",
    "            <material name=\"blue\"/>\n",
    "        </visual>\n",
    "        <collision>\n",
    "            <geometry>\n",
    "                <cylinder length=\"0.04\" radius=\"0.05\" />/>\n",
    "            </geometry>\n",
    "        </collision>\n",
    "     </link>\n",
    "    \n",
    "     <!-- RIGHT WHEEL -->\n",
    "\n",
    "    <joint name=\"right_wheel_joint\" type=\"continuous\">\n",
    "        <parent link=\"base_link\"/>\n",
    "        <child link=\"right_wheel\"/>\n",
    "        <origin xyz=\"0 -0.175 0\" rpy=\"-1.57079633 0 0\"/>\n",
    "        <axis xyz=\"0 0 1\"/>\n",
    "    </joint>\n",
    "\n",
    "    <link name=\"right_wheel\">\n",
    "        <visual>\n",
    "            <geometry>\n",
    "                <cylinder length=\"0.04\" radius=\"0.05\" />/>\n",
    "            </geometry>\n",
    "            <material name=\"blue\"/>\n",
    "        </visual>\n",
    "         <collision>\n",
    "            <geometry>\n",
    "                <cylinder length=\"0.04\" radius=\"0.05\" />/>\n",
    "            </geometry>\n",
    "            <material name=\"blue\"/>\n",
    "        </collision>\n",
    "     </link>\n",
    "    \n",
    "    <!-- CASTER WHEEL -->\n",
    "\n",
    "    <joint name=\"caster_wheel_joint\" type=\"fixed\">\n",
    "        <parent link=\"chassis\"/>\n",
    "        <child link=\"caster_wheel\"/>\n",
    "        <origin xyz=\"0.24 0 0\" rpy=\"0 0 0\"/>\n",
    "    </joint>\n",
    "\n",
    "    <link name=\"caster_wheel\">\n",
    "        <visual>\n",
    "            <geometry>\n",
    "                <sphere radius=\"0.05\" />\n",
    "            </geometry>\n",
    "            <material name=\"black\"/>\n",
    "       </visual>\n",
    "        <collision>\n",
    "            <geometry>\n",
    "                <sphere radius=\"0.05\" />\n",
    "            </geometry>\n",
    "            <material name=\"black\"/>\n",
    "       </collision>\n",
    "     </link>\n",
    "    \n",
    "    <!-- Lidar link -->\n",
    "    \n",
    "    <link name=\"lidar_link\">   \n",
    "       <visual>\n",
    "            <geometry>\n",
    "                <cylinder length=\"0.04\" radius=\"0.05\" />/>\n",
    "            </geometry>\n",
    "            <material name=\"purple\"/>\n",
    "        </visual>\n",
    "        <collision>\n",
    "            <geometry>\n",
    "                <cylinder length=\"0.04\" radius=\"0.05\" />/>\n",
    "            </geometry>\n",
    "        </collision>\n",
    "     </link>\n",
    "      <joint name=\"laser_joint\" type=\"fixed\">\n",
    "        <parent link=\"chassis\"/>\n",
    "        <child link=\"lidar_link\"/>\n",
    "        <origin xyz=\"0.24 0 0.175\" rpy=\"0 0 0\"/>\n",
    "    </joint>\n",
    "      \n",
    "</robot>\n",
    "    "
   ]
  },
  {
   "cell_type": "markdown",
   "id": "d51a3c99-7e64-44fc-9f91-84447fc66bad",
   "metadata": {},
   "source": [
    "# URDF Viewer:\n",
    "\n",
    "The simplest way to open the viewer is by double clicking on any already existing URDF file from the File Browser. New files can also be created from the top menu or from the launcher.\n",
    "\n",
    "With the URDF editor open, files can be modified directly and the changes will be immediately reflected in the viewer."
   ]
  },
  {
   "cell_type": "markdown",
   "id": "218a3ce6-4214-4d6e-bbeb-197772d59d8c",
   "metadata": {},
   "source": [
    "# URDF Editor\n",
    "\n",
    "To open the text editor for any URDF file, simply right click on the file and select “Open With” > “Editor”.\n",
    "\n",
    "Right click open editor\n",
    "\n",
    "Once the file is open, syntax highlighting can be enabled by selecting “XML” from the language menu in the bottom left corner."
   ]
  },
  {
   "cell_type": "markdown",
   "id": "7b2aff2c-cf4c-421b-a6a5-06e9505e5112",
   "metadata": {},
   "source": [
    "# Wrap up\n",
    "\n",
    "- You learned URDF file and it's structure\n",
    "- You learned about how to write the URDF file to include various elements\n",
    "- You learned about writing the urdf file for the simple robot\n",
    "- You learned how to view and edit any urdf file"
   ]
  },
  {
   "cell_type": "markdown",
   "id": "3428bc0a-798c-4b66-91b1-91622ede3e73",
   "metadata": {},
   "source": [
    "## License\n",
    "\n",
    "MIT License\n",
    "\n",
    "Copyright 2022 Institute for Automotive Engineering of RWTH Aachen University."
   ]
  }
 ],
 "metadata": {
  "kernelspec": {
   "display_name": "Python 3 (ipykernel)",
   "language": "python",
   "name": "python3"
  },
  "language_info": {
   "codemirror_mode": {
    "name": "ipython",
    "version": 3
   },
   "file_extension": ".py",
   "mimetype": "text/x-python",
   "name": "python",
   "nbconvert_exporter": "python",
   "pygments_lexer": "ipython3",
   "version": "3.9.6"
  }
 },
 "nbformat": 4,
 "nbformat_minor": 5
}
