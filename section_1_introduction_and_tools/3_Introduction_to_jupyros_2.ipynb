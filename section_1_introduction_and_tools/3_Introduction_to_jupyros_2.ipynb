{
 "cells": [
  {
   "cell_type": "code",
   "execution_count": null,
   "id": "bdcd95d5-b7ca-42e7-b574-5fc20a117b48",
   "metadata": {},
   "outputs": [
    {
     "name": "stdout",
     "output_type": "stream",
     "text": [
      "... logging to /home/jovyan/.ros/log/4d5fe99e-9078-11ed-a9e2-0242ac110002/roslaunch-586f7b3b3a57-82.log\n",
      "Checking log directory for disk usage. This may take a while.\n",
      "Press Ctrl-C to interrupt\n",
      "Done checking log file disk usage. Usage is <1GB.\n",
      "\u001b]2;roscore\u0007\n",
      "\u001b[1mstarted roslaunch server http://586f7b3b3a57:42779/\u001b[0m\n",
      "ros_comm version 1.15.15\n",
      "\n",
      "\n",
      "SUMMARY\n",
      "========\n",
      "\n",
      "PARAMETERS\n",
      " * /rosdistro: noetic\n",
      " * /rosversion: 1.15.15\n",
      "\n",
      "NODES\n",
      "\n",
      "auto-starting new master\n",
      "\u001b[1mprocess[master]: started with pid [101]\u001b[0m\n",
      "\u001b[1mROS_MASTER_URI=http://586f7b3b3a57:11311/\u001b[0m\n",
      "\u001b]2;roscore http://586f7b3b3a57:11311/\u0007\n",
      "\u001b[1msetting /run_id to 4d5fe99e-9078-11ed-a9e2-0242ac110002\u001b[0m\n",
      "\u001b[1mprocess[rosout-1]: started with pid [111]\u001b[0m\n",
      "started core service [/rosout]\n"
     ]
    }
   ],
   "source": [
    "!source /opt/ros/noetic/setup.sh && roscore"
   ]
  },
  {
   "cell_type": "code",
   "execution_count": null,
   "id": "8b474a8d-a605-45c0-a857-41de573df5e4",
   "metadata": {},
   "outputs": [],
   "source": []
  }
 ],
 "metadata": {
  "kernelspec": {
   "display_name": "Python 3 (ipykernel)",
   "language": "python",
   "name": "python3"
  },
  "language_info": {
   "codemirror_mode": {
    "name": "ipython",
    "version": 3
   },
   "file_extension": ".py",
   "mimetype": "text/x-python",
   "name": "python",
   "nbconvert_exporter": "python",
   "pygments_lexer": "ipython3",
   "version": "3.9.6"
  }
 },
 "nbformat": 4,
 "nbformat_minor": 5
}
